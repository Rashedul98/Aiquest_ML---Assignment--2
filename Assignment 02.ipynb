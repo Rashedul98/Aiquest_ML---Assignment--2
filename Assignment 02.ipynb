{
 "cells": [
  {
   "cell_type": "markdown",
   "id": "e3555656",
   "metadata": {},
   "source": [
    "# Variables "
   ]
  },
  {
   "cell_type": "markdown",
   "id": "ccbe1152",
   "metadata": {},
   "source": [
    "## Write a program that swaps the values of two variables."
   ]
  },
  {
   "cell_type": "code",
   "execution_count": 16,
   "id": "2f4aa2d5",
   "metadata": {},
   "outputs": [
    {
     "name": "stdout",
     "output_type": "stream",
     "text": [
      "20\n",
      "40\n",
      "Before Swapping the values of two variables: a: 20 b: 40\n",
      "after Swapping the values of two variables: a: 40 b: 20\n"
     ]
    }
   ],
   "source": [
    "a = int(input())\n",
    "b = int(input())\n",
    "print(\"Before Swapping the values of two variables: a:\",a, \"b:\",b)\n",
    "\n",
    "a, b = b, a\n",
    "print(\"after Swapping the values of two variables: a:\",a, \"b:\",b)"
   ]
  },
  {
   "cell_type": "markdown",
   "id": "9b053edf",
   "metadata": {},
   "source": [
    "## Write a program that calculates the area of a rectangle given its length and width."
   ]
  },
  {
   "cell_type": "code",
   "execution_count": 9,
   "id": "44613c8d",
   "metadata": {},
   "outputs": [
    {
     "name": "stdout",
     "output_type": "stream",
     "text": [
      "Enter lengths of a rectangle: 50\n",
      "Enter width of a rectangle: 90\n",
      "Area Of a Rectangle:  4500\n"
     ]
    }
   ],
   "source": [
    "length = int(input(\"Enter lengths of a rectangle: \"))\n",
    "width = int(input(\"Enter width of a rectangle: \"))\n",
    "\n",
    "AreaOfRectangle = length*width # formula - Area = lw\n",
    "\n",
    "print(\"Area Of a Rectangle: \",AreaOfRectangle)"
   ]
  },
  {
   "cell_type": "markdown",
   "id": "cd86ddb4",
   "metadata": {},
   "source": [
    "## Write a program that converts temperature from Fahrenheit to Celsius."
   ]
  },
  {
   "cell_type": "code",
   "execution_count": 21,
   "id": "ae1f1765",
   "metadata": {},
   "outputs": [
    {
     "name": "stdout",
     "output_type": "stream",
     "text": [
      "40\n",
      "temperature from Fahrenheit to Celsius: 4.444444444444445\n"
     ]
    }
   ],
   "source": [
    "inputTemperature = int(input())\n",
    "Celsius = (inputTemperature - 32) * 5/9  \n",
    "\n",
    "print(\"temperature from Fahrenheit to Celsius:\",Celsius)"
   ]
  },
  {
   "cell_type": "markdown",
   "id": "82190823",
   "metadata": {},
   "source": [
    "## Write a program that calculates the volume of a sphere given its radius."
   ]
  },
  {
   "cell_type": "code",
   "execution_count": 43,
   "id": "3922cf63",
   "metadata": {},
   "outputs": [
    {
     "name": "stdout",
     "output_type": "stream",
     "text": [
      "Enter radius:2\n",
      "33.5104\n"
     ]
    }
   ],
   "source": [
    "radius = int(input(\"Enter radius:\"))\n",
    "pi = 3.1416\n",
    "Volume = (4/3) * pi * (radius**3)  #formula - V = 4/3 π r³ \n",
    "print(Volume)"
   ]
  },
  {
   "cell_type": "markdown",
   "id": "7543e2d7",
   "metadata": {},
   "source": [
    "## Write a program that finds the average of three numbers.\n"
   ]
  },
  {
   "cell_type": "code",
   "execution_count": 1,
   "id": "6bd804b3",
   "metadata": {},
   "outputs": [
    {
     "name": "stdin",
     "output_type": "stream",
     "text": [
      "Enter any number: 4\n",
      "Enter any number: 4\n",
      "Enter any number: 2\n"
     ]
    },
    {
     "name": "stdout",
     "output_type": "stream",
     "text": [
      "average of three numbers: 3.3333333333333335\n"
     ]
    }
   ],
   "source": [
    "num1 = int(input(\"Enter any number:\"))\n",
    "num2 = int(input(\"Enter any number:\"))\n",
    "num3 = int(input(\"Enter any number:\"))\n",
    "\n",
    "sum_of_three = num1 + num2 + num3\n",
    "average = sum_of_three/3\n",
    "\n",
    "print(\"average of three numbers:\",average)"
   ]
  },
  {
   "cell_type": "markdown",
   "id": "411909a3",
   "metadata": {},
   "source": [
    "# If-elif-else\n"
   ]
  },
  {
   "cell_type": "markdown",
   "id": "bfde4b97",
   "metadata": {},
   "source": [
    "## Write a program that determines if a number is even or odd."
   ]
  },
  {
   "cell_type": "code",
   "execution_count": 58,
   "id": "e5a63e36",
   "metadata": {},
   "outputs": [
    {
     "name": "stdout",
     "output_type": "stream",
     "text": [
      "Enter any number:98\n",
      "98 is an even number\n"
     ]
    }
   ],
   "source": [
    "number = int(input(\"Enter any number:\"))\n",
    "if number%2 == 0:\n",
    "    print(number,\"is an even number\")\n",
    "else:\n",
    "    print(number,\"is an odd number\")"
   ]
  },
  {
   "cell_type": "markdown",
   "id": "0f47a2f3",
   "metadata": {},
   "source": [
    "## Write a program that finds the maximum of three numbers."
   ]
  },
  {
   "cell_type": "code",
   "execution_count": 1,
   "id": "541ca803",
   "metadata": {
    "scrolled": true
   },
   "outputs": [
    {
     "name": "stdout",
     "output_type": "stream",
     "text": [
      "20\n",
      "20\n",
      "11\n",
      "20 is the maximum\n"
     ]
    }
   ],
   "source": [
    "n1 = int(input())\n",
    "n2 = int(input())\n",
    "n3 = int(input())\n",
    "\n",
    "if n1>n2:\n",
    "    if n1>n3:\n",
    "        print(n1,\"is the maximum\")\n",
    "    else:\n",
    "        print(n3,\"is the maximum\")\n",
    "elif n2>n3:\n",
    "    print(n2,\"is the maximum\")\n",
    "else:\n",
    "    print(n3,\"is the maximum\")\n",
    "        "
   ]
  },
  {
   "cell_type": "markdown",
   "id": "0376f1eb",
   "metadata": {},
   "source": [
    "## Write a program that generates a random number and allows the user to guess it."
   ]
  },
  {
   "cell_type": "code",
   "execution_count": null,
   "id": "e10f942c",
   "metadata": {},
   "outputs": [],
   "source": [
    "input_year = int(input(\"Enter any year: \"))\n",
    "\n",
    "if input_year%4==0:\n",
    "    print(input_year,\"is a leap year\")\n",
    "else:\n",
    "    print(input_year, \"is not a leap year\")"
   ]
  },
  {
   "cell_type": "markdown",
   "id": "ac7b89e8",
   "metadata": {},
   "source": [
    "## Write a program that determines if a number is positive, negative, or zero."
   ]
  },
  {
   "cell_type": "code",
   "execution_count": null,
   "id": "744df7d9",
   "metadata": {},
   "outputs": [],
   "source": [
    "number = int(input(\"Enter any number: \"))\n",
    "\n",
    "if number==0:\n",
    "    print(number,\"zero\")\n",
    "elif number>=0:\n",
    "    print(number,\"is a positive number\")\n",
    "elif number<0:\n",
    "    print(number,\"is a negative number\")"
   ]
  },
  {
   "cell_type": "markdown",
   "id": "db613dae",
   "metadata": {},
   "source": [
    "## Write a program that calculates the grade based on a given percentage."
   ]
  },
  {
   "cell_type": "code",
   "execution_count": null,
   "id": "1f152ecf",
   "metadata": {},
   "outputs": [],
   "source": [
    "\n",
    "i = 0\n",
    "count = 1\n",
    "\n",
    "while i<count:\n",
    "    grades = float(input(\"Enter grades: \"))\n",
    "    if grades>= 80.00 and grades<=100.00:\n",
    "        print(\"A+\")\n",
    "    elif grades>= 75.00 and grades<=79.99:\n",
    "        print(\"A\")\n",
    "    elif grades>= 70.00 and grades<=74.99:\n",
    "        print(\"A-\")\n",
    "    elif grades>=65.00 and grades<=69.99:\n",
    "        print(\"B+\")\n",
    "    elif grades>= 60.00 and grades<=64.99:\n",
    "        print(\"B\")\n",
    "    elif grades>=55.00 and grades<=59.99:\n",
    "        print(\"B-\")\n",
    "    elif grades>=50.00 and grades<=54.99:\n",
    "        print(\"C+\")\n",
    "    elif grades>=45.00 and grades<=49.99:\n",
    "        print(\"C\")\n",
    "    elif grades>=40.00 and grades<=44.99:\n",
    "        print(\"D\")\n",
    "    else:\n",
    "        print(\"F\")\n",
    "\n",
    "count = count + 1\n",
    "    "
   ]
  },
  {
   "cell_type": "markdown",
   "id": "597410ab",
   "metadata": {},
   "source": [
    "# For Loop"
   ]
  },
  {
   "cell_type": "markdown",
   "id": "1eb6e3a6",
   "metadata": {},
   "source": [
    "## Write a program that prints the first `n` natural numbers."
   ]
  },
  {
   "cell_type": "code",
   "execution_count": null,
   "id": "d8a14314",
   "metadata": {},
   "outputs": [],
   "source": [
    "n = int(input(\"Enter the value of n:\"))\n",
    "\n",
    "for i in range(1, n+1): # 0 cannot be a natural number.\n",
    "    print(i)\n",
    "        "
   ]
  },
  {
   "cell_type": "markdown",
   "id": "dde89bbe",
   "metadata": {},
   "source": [
    "## Write a program that calculates the factorial of a number."
   ]
  },
  {
   "cell_type": "code",
   "execution_count": 102,
   "id": "110b91c5",
   "metadata": {},
   "outputs": [
    {
     "name": "stdout",
     "output_type": "stream",
     "text": [
      "Enter a number to calculate its factorial: 3\n",
      "The factorial of 3 is: 6\n"
     ]
    }
   ],
   "source": [
    "num = int(input(\"Enter a number to calculate its factorial: \"))\n",
    "result = 1\n",
    "for i in range(1, num + 1):\n",
    "    result =result* i\n",
    "       \n",
    "print(f\"The factorial of {num} is: {result}\")\n"
   ]
  },
  {
   "cell_type": "markdown",
   "id": "bbfe9b8d-4212-46d7-8aba-d69e35b9d41d",
   "metadata": {},
   "source": [
    "## Write a program that checks if a given number is prime or not."
   ]
  },
  {
   "cell_type": "code",
   "execution_count": 76,
   "id": "ad169c25-cc0f-45db-b2d1-c5bcbe61a548",
   "metadata": {
    "scrolled": true
   },
   "outputs": [
    {
     "name": "stdin",
     "output_type": "stream",
     "text": [
      "Enter a number to check if it's prime:  12312312\n"
     ]
    },
    {
     "name": "stdout",
     "output_type": "stream",
     "text": [
      "12312312 is not a prime number.\n"
     ]
    }
   ],
   "source": [
    "num = int(input(\"Enter a number to check if it's prime: \"))\n",
    "\n",
    "if num < 2:\n",
    "    print(f\"{num} is not a prime number.\")\n",
    "else:\n",
    "   \n",
    "    is_prime = True\n",
    "    \n",
    "    for i in range(2, int(num**0.5) + 1):\n",
    "        if num % i == 0:\n",
    "            is_prime = False\n",
    "            break\n",
    "\n",
    "    if is_prime:\n",
    "        print(f\"{num} is a prime number.\")\n",
    "    else:\n",
    "        print(f\"{num} is not a prime number.\")\n"
   ]
  },
  {
   "cell_type": "markdown",
   "id": "d97cdc73-eafc-4fb2-a0b1-1d0babf75289",
   "metadata": {},
   "source": [
    "## Write a program that prints the multiplication table of a given number."
   ]
  },
  {
   "cell_type": "code",
   "execution_count": 75,
   "id": "a561acc7-857e-43ca-b853-764c03179206",
   "metadata": {},
   "outputs": [
    {
     "name": "stdin",
     "output_type": "stream",
     "text": [
      "Enter any number:  3\n"
     ]
    },
    {
     "name": "stdout",
     "output_type": "stream",
     "text": [
      "3 * 1 = 3\n",
      "3 * 2 = 6\n",
      "3 * 3 = 9\n",
      "3 * 4 = 12\n",
      "3 * 5 = 15\n",
      "3 * 6 = 18\n",
      "3 * 7 = 21\n",
      "3 * 8 = 24\n",
      "3 * 9 = 27\n",
      "3 * 10 = 30\n"
     ]
    }
   ],
   "source": [
    "num = int(input(\"Enter any number: \"))\n",
    "for i in range(1, 10+1):\n",
    "          print(f\"{num} * {i} = {num*i}\")\n",
    "    \n"
   ]
  },
  {
   "cell_type": "markdown",
   "id": "007c200b-694b-497c-a013-ea74d8e49a84",
   "metadata": {},
   "source": [
    "# While-Loop"
   ]
  },
  {
   "cell_type": "markdown",
   "id": "ef74675a-bbcd-4c2a-8029-c52382558fac",
   "metadata": {},
   "source": [
    "## Write a program that finds the sum of all even numbers between 1 and `n`."
   ]
  },
  {
   "cell_type": "code",
   "execution_count": 32,
   "id": "ab816036-175a-436b-85de-05771c63d636",
   "metadata": {},
   "outputs": [
    {
     "name": "stdin",
     "output_type": "stream",
     "text": [
      "Enter any number:  10\n"
     ]
    },
    {
     "name": "stdout",
     "output_type": "stream",
     "text": [
      "2 is an even number \n",
      "\n",
      "4 is an even number \n",
      "\n",
      "6 is an even number \n",
      "\n",
      "8 is an even number \n",
      "\n",
      "10 is an even number \n",
      "\n",
      "Sum of all even numbers: 30\n"
     ]
    }
   ],
   "source": [
    "n = int(input(\"Enter any number: \"))\n",
    "i = 1\n",
    "sum = 0\n",
    "while i<n+1: \n",
    "    \n",
    "    if i % 2 == 0:\n",
    "        print(i, \"is an even number \\n\")\n",
    "        sum = sum + i\n",
    "   \n",
    "\n",
    "    i = i + 1\n",
    "\n",
    "print(f\"Sum of all even numbers: {sum}\")"
   ]
  },
  {
   "cell_type": "markdown",
   "id": "b5864a85-3869-4d10-8762-66ac6c819115",
   "metadata": {},
   "source": [
    "## Write a program that reverses a given number.\n"
   ]
  },
  {
   "cell_type": "code",
   "execution_count": 53,
   "id": "d4489125-32f7-4e66-960f-74316f41957c",
   "metadata": {},
   "outputs": [
    {
     "name": "stdin",
     "output_type": "stream",
     "text": [
      "Enter a number to reverse:  54\n"
     ]
    },
    {
     "name": "stdout",
     "output_type": "stream",
     "text": [
      "Reversed number: 45\n"
     ]
    }
   ],
   "source": [
    "input_number = int(input(\"Enter a number to reverse: \"))\n",
    "reversed_number = 0\n",
    "\n",
    "while input_number > 0:\n",
    "    digit = input_number % 10\n",
    "    reversed_number = (reversed_number * 10) + digit\n",
    "    input_number = input_number // 10\n",
    "    \n",
    "print(\"Reversed number:\", reversed_number)\n"
   ]
  },
  {
   "cell_type": "markdown",
   "id": "b5a7c30e-f1e7-4584-aa2a-b6dc29f2db87",
   "metadata": {},
   "source": [
    "## Write a program that checks if a given string is a palindrome."
   ]
  },
  {
   "cell_type": "code",
   "execution_count": 82,
   "id": "f8740598-1b0f-4d36-baa7-22f30ecad643",
   "metadata": {},
   "outputs": [
    {
     "name": "stdin",
     "output_type": "stream",
     "text": [
      "Type any string value:  asdasd\n"
     ]
    },
    {
     "name": "stdout",
     "output_type": "stream",
     "text": [
      "This string is not a palindrome\n"
     ]
    }
   ],
   "source": [
    "input_string = input(\"Type any string value: \")\n",
    "i = 0\n",
    "while i < len(input_string):\n",
    "    if input_string == input_string[::-1]:\n",
    "        print(\"This string is a palindrome\")\n",
    "        break\n",
    "    else:\n",
    "        print(\"This string is not a palindrome\")\n",
    "        break\n",
    "\n"
   ]
  },
  {
   "cell_type": "markdown",
   "id": "b8a33b98-0f35-4496-bf93-a9ed668b1634",
   "metadata": {},
   "source": [
    "## Write a program that generates a random number and allows the user to guess it"
   ]
  },
  {
   "cell_type": "code",
   "execution_count": null,
   "id": "e013dd7b-f805-499b-855d-580c474f5c88",
   "metadata": {},
   "outputs": [],
   "source": [
    "import random\n",
    "\n",
    "values = random.randint(1, 10)\n",
    "i = 0\n",
    "count = 1\n",
    "attempts = 0\n",
    "while i < count:\n",
    "    \n",
    "    number = int(input(\"Enter any number: \"))\n",
    "    attempts = attempts + 1\n",
    "    if number == values:\n",
    "        print(\"correct!! you guessed the right number\",\",You attempted:\", attempts,\"times\")\n",
    "        break\n",
    "    else:\n",
    "        print(\"incorrect, try again \\n\")\n",
    "        i = i+1\n",
    "        count =count + 1\n",
    "        \n",
    "    "
   ]
  },
  {
   "cell_type": "markdown",
   "id": "5a65cb72-f231-4204-997f-fa82bfc65bb5",
   "metadata": {},
   "source": [
    "## Write a program that finds the greatest common divisor (GCD) of two numbers."
   ]
  },
  {
   "cell_type": "code",
   "execution_count": null,
   "id": "cfbd3cdf-795a-40f4-9e80-04d5c0687090",
   "metadata": {},
   "outputs": [],
   "source": [
    "\n",
    "num1 = int(input(\"Enter the first number: \"))\n",
    "num2 = int(input(\"Enter the second number: \"))\n",
    "\n",
    "while num2 != 0:\n",
    "    remainder = num1 % num2\n",
    "    num1 = num2\n",
    "    num2 = remainder\n",
    "\n",
    "print(\"Greatest Common Divisor (GCD):\", num1)\n"
   ]
  }
 ],
 "metadata": {
  "kernelspec": {
   "display_name": "Python 3 (ipykernel)",
   "language": "python",
   "name": "python3"
  },
  "language_info": {
   "codemirror_mode": {
    "name": "ipython",
    "version": 3
   },
   "file_extension": ".py",
   "mimetype": "text/x-python",
   "name": "python",
   "nbconvert_exporter": "python",
   "pygments_lexer": "ipython3",
   "version": "3.11.5"
  }
 },
 "nbformat": 4,
 "nbformat_minor": 5
}
